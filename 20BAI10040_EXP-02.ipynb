{
 "cells": [
  {
   "cell_type": "code",
   "execution_count": 1,
   "id": "a5082731",
   "metadata": {},
   "outputs": [],
   "source": [
    "import cv2\n",
    "import pandas as pd\n",
    "import numpy as np\n",
    "from IPython.display import Video"
   ]
  },
  {
   "cell_type": "code",
   "execution_count": 2,
   "id": "a6a2343d",
   "metadata": {},
   "outputs": [],
   "source": [
    "img = cv2.imread(\"ShankarLohar20BAI10040.jpg\")"
   ]
  },
  {
   "cell_type": "code",
   "execution_count": 3,
   "id": "ba3a63ac",
   "metadata": {},
   "outputs": [],
   "source": [
    "imgWidth = img.shape[1] - 40"
   ]
  },
  {
   "cell_type": "code",
   "execution_count": 4,
   "id": "421c58d4",
   "metadata": {},
   "outputs": [],
   "source": [
    "index = ['color', 'color_name', 'hex', 'R', 'G', 'B']"
   ]
  },
  {
   "cell_type": "code",
   "execution_count": 5,
   "id": "77afaaa4",
   "metadata": {},
   "outputs": [],
   "source": [
    "df = pd.read_csv(\n",
    "    \"https://raw.githubusercontent.com/manishsingh7163/Color-Detection/master/Data/colors.csv\",\n",
    "    header=None,names=index)"
   ]
  },
  {
   "cell_type": "code",
   "execution_count": 6,
   "id": "fb5b71d2",
   "metadata": {},
   "outputs": [],
   "source": [
    "r = g = b = xpos = ypos = 0"
   ]
  },
  {
   "cell_type": "code",
   "execution_count": 7,
   "id": "310ba0a3",
   "metadata": {},
   "outputs": [],
   "source": [
    "def getRGBvalue(event, x, y, flags, param):\n",
    "    global b, g, r, xpos, ypos, clicked\n",
    "    xpos = x\n",
    "    ypos = y\n",
    "    b,g,r = img[y,x]\n",
    "    b = int(b)\n",
    "    g = int(g)\n",
    "    r = int(r)"
   ]
  },
  {
   "cell_type": "code",
   "execution_count": 8,
   "id": "2d55b428",
   "metadata": {},
   "outputs": [],
   "source": [
    "def colorname(B,G,R):\n",
    "    minimum = 10000\n",
    "    for i in range(len(df)):\n",
    "        d = abs(B-int(df.loc[i,\"B\"])) + abs(G-int(df.loc[i,\"G\"])) + abs(R-int(df.loc[i,\"R\"]))\n",
    "        if (d<=minimum):\n",
    "            minimum = d\n",
    "            cname = df.loc[i,\"color_name\"] + \"Hex\" + df.loc[i, \"hex\"]\n",
    "    return cname"
   ]
  },
  {
   "cell_type": "code",
   "execution_count": 9,
   "id": "ce8857c2",
   "metadata": {},
   "outputs": [],
   "source": [
    "cv2.namedWindow(\"Image\")\n",
    "cv2.setMouseCallback(\"Image\",getRGBvalue)"
   ]
  },
  {
   "cell_type": "code",
   "execution_count": null,
   "id": "fa9cb8da",
   "metadata": {},
   "outputs": [],
   "source": [
    "while True:\n",
    "    cv2.imshow(\"Image\", img)\n",
    "    cv2.rectangle(img, (20,20), (imgWidth, 60),(b,g,r), -1)\n",
    "    text = colorname(b,g,r) + '   R=' + str(r) + ' G=' + str(g) + ' B=' + str(b)\n",
    "    cv2.putText(img,text, (50,50),2, 0.8, (255,255,255),2,cv2.LINE_AA)    \n",
    "    if(r+g+b >= 600):\n",
    "        cv2.putText(img,text,(50,50), 2, 0.8, (0,0,0),2,cv2.LINE_AA)   \n",
    "    if cv2.waitKey(20) & 0xFF == 27:\n",
    "        break"
   ]
  },
  {
   "cell_type": "code",
   "execution_count": 10,
   "id": "bc870e98",
   "metadata": {},
   "outputs": [
    {
     "data": {
      "text/html": [
       "<video src=\"ShankarColorDetect.mp4\" controls  >\n",
       "      Your browser does not support the <code>video</code> element.\n",
       "    </video>"
      ],
      "text/plain": [
       "<IPython.core.display.Video object>"
      ]
     },
     "execution_count": 10,
     "metadata": {},
     "output_type": "execute_result"
    }
   ],
   "source": [
    "Video(\"ShankarColorDetect.mp4\")"
   ]
  },
  {
   "cell_type": "code",
   "execution_count": 11,
   "id": "b61f5e31",
   "metadata": {},
   "outputs": [],
   "source": [
    "cv2.destroyAllWindows()"
   ]
  }
 ],
 "metadata": {
  "kernelspec": {
   "display_name": "Python 3 (ipykernel)",
   "language": "python",
   "name": "python3"
  },
  "language_info": {
   "codemirror_mode": {
    "name": "ipython",
    "version": 3
   },
   "file_extension": ".py",
   "mimetype": "text/x-python",
   "name": "python",
   "nbconvert_exporter": "python",
   "pygments_lexer": "ipython3",
   "version": "3.9.7"
  }
 },
 "nbformat": 4,
 "nbformat_minor": 5
}
